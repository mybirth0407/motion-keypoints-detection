{
 "cells": [
  {
   "cell_type": "code",
   "execution_count": 1,
   "metadata": {},
   "outputs": [
    {
     "name": "stdout",
     "output_type": "stream",
     "text": [
      "https://ui.neptune.ai/mybirth0407/tour-with-pytorch/e/PYTORCH-15\n"
     ]
    }
   ],
   "source": [
    "# Connect your script to Neptune\n",
    "import neptune\n",
    "\n",
    "neptune.init(project_qualified_name='mybirth0407/tour-with-pytorch',\n",
    "             api_token='eyJhcGlfYWRkcmVzcyI6Imh0dHBzOi8vdWkubmVwdHVuZS5haSIsImFwaV91cmwiOiJodHRwczovL3VpLm5lcHR1bmUuYWkiLCJhcGlfa2V5IjoiYjU1ZTVmM2QtNmM1My00YzI0LWE5YzctOTAxMDFkNDkwNjQyIn0=',\n",
    "             )\n",
    "\n",
    "# Create experiment\n",
    "neptune.create_experiment('test')\n",
    "\n",
    "# Log metrics to experiment\n",
    "from time import slee=\n",
    "\n",
    "neptune.log_metric('single_metric', 0.62)\n",
    "\n",
    "for i in range(5):\n",
    "    sleep(0.2) # to see logging live\n",
    "    neptune.log_metric('random_training_metric', i * 0.6)\n",
    "    neptune.log_metric('other_random_training_metric', i * 0.4)"
   ]
  },
  {
   "cell_type": "code",
   "execution_count": null,
   "metadata": {},
   "outputs": [],
   "source": []
  }
 ],
 "metadata": {
  "kernelspec": {
   "display_name": "torch (Python 3.8)",
   "language": "python",
   "name": "torch"
  },
  "language_info": {
   "codemirror_mode": {
    "name": "ipython",
    "version": 3
   },
   "file_extension": ".py",
   "mimetype": "text/x-python",
   "name": "python",
   "nbconvert_exporter": "python",
   "pygments_lexer": "ipython3",
   "version": "3.8.5"
  }
 },
 "nbformat": 4,
 "nbformat_minor": 4
}
